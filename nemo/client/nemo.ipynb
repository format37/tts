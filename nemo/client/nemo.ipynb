{
 "cells": [
  {
   "cell_type": "code",
   "execution_count": 26,
   "id": "14265d55",
   "metadata": {},
   "outputs": [],
   "source": [
    "import json\n",
    "import requests\n",
    "import time\n",
    "from datetime import datetime as dt"
   ]
  },
  {
   "cell_type": "code",
   "execution_count": 27,
   "id": "cb71cd4a",
   "metadata": {},
   "outputs": [],
   "source": [
    "port = '10005'\n",
    "server_address = 'http://localhost:'+port"
   ]
  },
  {
   "cell_type": "markdown",
   "id": "5ca1e9b4",
   "metadata": {},
   "source": [
    "### wait for server be ready"
   ]
  },
  {
   "cell_type": "code",
   "execution_count": 42,
   "id": "8299681a",
   "metadata": {},
   "outputs": [
    {
     "name": "stdout",
     "output_type": "stream",
     "text": [
      "2022-06-15 22:33:56.159270 waiting for server..\n",
      "get ok\n",
      "2022-06-15 22:36:04.908334 server is ready\n"
     ]
    }
   ],
   "source": [
    "print(dt.now(), 'waiting for server..')\n",
    "r = ''\n",
    "while r == '':\n",
    "    try:\n",
    "        r = requests.get(server_address+'/test').text\n",
    "    except Exception as e:\n",
    "        time.sleep(1)\n",
    "print(r)\n",
    "print(dt.now(), 'server is ready')"
   ]
  },
  {
   "cell_type": "markdown",
   "id": "fb08d860",
   "metadata": {},
   "source": [
    "### request"
   ]
  },
  {
   "cell_type": "code",
   "execution_count": 46,
   "id": "60cd0728",
   "metadata": {},
   "outputs": [],
   "source": [
    "data = {'text':\"Hello! Is it a test message? Thank you.\"}\n",
    "#data = {'text':'Hello world'}"
   ]
  },
  {
   "cell_type": "code",
   "execution_count": 47,
   "id": "99a30b2d",
   "metadata": {},
   "outputs": [
    {
     "name": "stdout",
     "output_type": "stream",
     "text": [
      "<Response [200]>\n"
     ]
    }
   ],
   "source": [
    "request_str = json.dumps(data)\n",
    "response = requests.post(server_address+'/inference', json=request_str)\n",
    "print(response)"
   ]
  },
  {
   "cell_type": "code",
   "execution_count": 48,
   "id": "41ef64ef",
   "metadata": {},
   "outputs": [],
   "source": [
    "# Save response as audio file\n",
    "with open(\"audio.wav\", \"wb\") as f:\n",
    "    f.write(response.content)"
   ]
  }
 ],
 "metadata": {
  "kernelspec": {
   "display_name": "Python (ml04)",
   "language": "python",
   "name": "ml04"
  },
  "language_info": {
   "codemirror_mode": {
    "name": "ipython",
    "version": 3
   },
   "file_extension": ".py",
   "mimetype": "text/x-python",
   "name": "python",
   "nbconvert_exporter": "python",
   "pygments_lexer": "ipython3",
   "version": "3.7.13"
  }
 },
 "nbformat": 4,
 "nbformat_minor": 5
}
