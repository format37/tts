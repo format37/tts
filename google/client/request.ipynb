{
 "cells": [
  {
   "cell_type": "code",
   "execution_count": 1,
   "id": "14265d55",
   "metadata": {},
   "outputs": [],
   "source": [
    "import json\n",
    "import requests\n",
    "import time\n",
    "from datetime import datetime as dt"
   ]
  },
  {
   "cell_type": "code",
   "execution_count": 4,
   "id": "cb71cd4a",
   "metadata": {},
   "outputs": [],
   "source": [
    "port = '4213'\n",
    "server_address = 'http://192.168.1.114:'+port"
   ]
  },
  {
   "cell_type": "markdown",
   "id": "5ca1e9b4",
   "metadata": {},
   "source": [
    "### wait for server be ready"
   ]
  },
  {
   "cell_type": "code",
   "execution_count": 5,
   "id": "8299681a",
   "metadata": {},
   "outputs": [
    {
     "name": "stdout",
     "output_type": "stream",
     "text": [
      "2022-12-10 19:09:08.229278 waiting for server..\n",
      "get ok\n",
      "2022-12-10 19:09:08.239233 server is ready\n"
     ]
    }
   ],
   "source": [
    "print(dt.now(), 'waiting for server..')\n",
    "r = ''\n",
    "while r == '':\n",
    "    try:\n",
    "        r = requests.get(server_address+'/test').text\n",
    "    except Exception as e:\n",
    "        time.sleep(1)\n",
    "print(r)\n",
    "print(dt.now(), 'server is ready')"
   ]
  },
  {
   "cell_type": "markdown",
   "id": "fb08d860",
   "metadata": {},
   "source": [
    "### request"
   ]
  },
  {
   "cell_type": "code",
   "execution_count": 6,
   "id": "60cd0728",
   "metadata": {},
   "outputs": [],
   "source": [
    "# https://cloud.google.com/text-to-speech/docs/voices\n",
    "# https://cloud.google.com/text-to-speech\n",
    "data = {\n",
    "    'text':\"Hello! Is it a test message? Thank you.\",\n",
    "    'language':'en-US',\n",
    "    'model':'en-US-Neural2-F',\n",
    "    'speed':1\n",
    "}"
   ]
  },
  {
   "cell_type": "code",
   "execution_count": 7,
   "id": "99a30b2d",
   "metadata": {},
   "outputs": [
    {
     "name": "stdout",
     "output_type": "stream",
     "text": [
      "2022-12-10 19:09:13.692900 sending..\n",
      "<Response [200]>\n",
      "2022-12-10 19:09:14.642362 Received!\n"
     ]
    }
   ],
   "source": [
    "print(dt.now(), 'sending..')\n",
    "response = requests.post(server_address+'/inference', json=data)\n",
    "print(response)\n",
    "print(dt.now(), 'Received!')\n",
    "# Save response as audio file\n",
    "with open(\"audio.wav\", \"wb\") as f:\n",
    "    f.write(response.content)"
   ]
  }
 ],
 "metadata": {
  "kernelspec": {
   "display_name": "Python 3 (ipykernel)",
   "language": "python",
   "name": "python3"
  },
  "language_info": {
   "codemirror_mode": {
    "name": "ipython",
    "version": 3
   },
   "file_extension": ".py",
   "mimetype": "text/x-python",
   "name": "python",
   "nbconvert_exporter": "python",
   "pygments_lexer": "ipython3",
   "version": "3.8.8"
  }
 },
 "nbformat": 4,
 "nbformat_minor": 5
}
